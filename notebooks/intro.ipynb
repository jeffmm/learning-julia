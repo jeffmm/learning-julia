{
 "cells": [
  {
   "cell_type": "code",
   "execution_count": 18,
   "id": "floppy-range",
   "metadata": {},
   "outputs": [
    {
     "name": "stdout",
     "output_type": "stream",
     "text": [
      "16\n"
     ]
    }
   ],
   "source": [
    "# Julia variables\n",
    "# Trying to define builtin names as variables fails\n",
    "# else = false  # FAILS\n",
    "\n",
    "# unicode in variable names is allowed!\n",
    "δ = 20 # created by typing \\delta[TAB] = 20\n",
    "α̂ = 16  # created by typing \\alpha[TAB]\\hat[TAB] = 16\n",
    "println(α̂)"
   ]
  },
  {
   "cell_type": "markdown",
   "id": "second-lewis",
   "metadata": {},
   "source": [
    "#### Variable name conventions:\n",
    "1) Variable names should be lowercase, with words separated by underscores only if it makes the variable easier to read (`foo`)\n",
    "2) Types and Modules begin with a capital letter, with word separation indicated using camel case (`MyType`)\n",
    "3) Functions and macros should be lowercase, without underscores when possible (`myfunc`)\n",
    "4) Functions that write to their arguments (\"mutating\" or \"in-place\" functions) have names that end in `!` (`mymutfunc!`)\n"
   ]
  },
  {
   "cell_type": "code",
   "execution_count": null,
   "id": "strange-forward",
   "metadata": {},
   "outputs": [],
   "source": []
  }
 ],
 "metadata": {
  "kernelspec": {
   "display_name": "Julia 1.6.1",
   "language": "julia",
   "name": "julia-1.6"
  },
  "language_info": {
   "file_extension": ".jl",
   "mimetype": "application/julia",
   "name": "julia",
   "version": "1.6.1"
  }
 },
 "nbformat": 4,
 "nbformat_minor": 5
}
